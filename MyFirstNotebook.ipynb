{
 "cells": [
  {
   "cell_type": "markdown",
   "id": "557f473c",
   "metadata": {},
   "source": [
    "# My first attempt to write a notebook\n",
    "\n",
    "Simon Mathias, Department of Engineering, Durham University\n",
    "\n",
    "## Learning outcomes\n",
    "\n",
    "* Input data into a 1D array.\n",
    "* Access data from a 1D array.\n",
    "* Distinguish between row and column vectors.\n",
    "* Determine the size of an array.\n",
    "* Input data into 2D arrays.\n",
    "* Access data from 2D arrays.\n",
    "* Write a script file.\n",
    "* Import data from an excel file.\n",
    "* Plot data in x-y scatter plots.\n",
    "\n",
    "## Input data into a 1D array\n",
    "\n",
    "First of we will import `numpy` and make an array."
   ]
  },
  {
   "cell_type": "code",
   "execution_count": 91,
   "id": "f29fdbef",
   "metadata": {},
   "outputs": [
    {
     "name": "stdout",
     "output_type": "stream",
     "text": [
      "[4 6 8 5 1 3 2]\n"
     ]
    }
   ],
   "source": [
    "#Import the numpy package\n",
    "import numpy as np\n",
    "#Make an array A=[4 6 8 5 1 3 2]\n",
    "A=np.array([4, 6, 8, 5, 1, 3, 2])\n",
    "#Display the array\n",
    "print(A)"
   ]
  },
  {
   "cell_type": "markdown",
   "id": "f851dad5",
   "metadata": {},
   "source": [
    "Now we will have a go at doing some basic arithmetic."
   ]
  },
  {
   "cell_type": "code",
   "execution_count": 92,
   "id": "efbee452",
   "metadata": {},
   "outputs": [
    {
     "name": "stdout",
     "output_type": "stream",
     "text": [
      "[ 8 12 16 10  2  6  4]\n",
      "[ 6  8 10  7  3  5  4]\n"
     ]
    }
   ],
   "source": [
    "#Perform some arithmetic\n",
    "B=A*2\n",
    "C=A+2\n",
    "print(B)\n",
    "print(C)"
   ]
  },
  {
   "cell_type": "markdown",
   "id": "05f4893e",
   "metadata": {},
   "source": [
    "## Access data from a 1D array\n",
    "\n",
    "He we will have a got at extracting some columns from the array."
   ]
  },
  {
   "cell_type": "code",
   "execution_count": 93,
   "id": "1ae68fdc",
   "metadata": {
    "scrolled": true
   },
   "outputs": [
    {
     "name": "stdout",
     "output_type": "stream",
     "text": [
      "8\n",
      "1\n",
      "[8 1]\n",
      "-0.9589242746631385\n",
      "42\n"
     ]
    }
   ],
   "source": [
    "#Extract the third column of A and store it in B\n",
    "B=A[2]\n",
    "#Extract the fith column of A and store it in C\n",
    "C=A[4]\n",
    "#Extract both third and fifth columns and store in D\n",
    "D=A[[2,4]]\n",
    "#Now let's print the results\n",
    "print(B)\n",
    "print(C)\n",
    "print(D)\n",
    "#More commands\n",
    "print(np.sin(5))\n",
    "print(6*(4+3))"
   ]
  },
  {
   "cell_type": "markdown",
   "id": "df1618e8",
   "metadata": {},
   "source": [
    "The square brackets, `[]`, can be used for stacking values in arrays. Curved brackets, `()`, can be used for specifying functional arguments or performing bracketed arithmetic, e.g."
   ]
  },
  {
   "cell_type": "code",
   "execution_count": 94,
   "id": "2b27a446",
   "metadata": {},
   "outputs": [
    {
     "name": "stdout",
     "output_type": "stream",
     "text": [
      "-0.9589242746631385\n",
      "42\n"
     ]
    }
   ],
   "source": [
    "#More commands\n",
    "print(np.sin(5))\n",
    "print(6*(4+3))"
   ]
  },
  {
   "cell_type": "markdown",
   "id": "3797fb19",
   "metadata": {},
   "source": [
    "Interestingly, typing `np.arange(2,6,1)` produces a sequence of numbers from 2 to 5 in increments of 1."
   ]
  },
  {
   "cell_type": "code",
   "execution_count": 95,
   "id": "9dd51473",
   "metadata": {},
   "outputs": [
    {
     "name": "stdout",
     "output_type": "stream",
     "text": [
      "[2 3 4 5]\n"
     ]
    }
   ],
   "source": [
    "C=np.arange(2,6,1)\n",
    "print(C)"
   ]
  },
  {
   "cell_type": "markdown",
   "id": "fd90e50d",
   "metadata": {},
   "source": [
    "The above functionality can be used to more easily obtain multiple values from a vector. For example:"
   ]
  },
  {
   "cell_type": "code",
   "execution_count": 96,
   "id": "4fca5259",
   "metadata": {},
   "outputs": [
    {
     "name": "stdout",
     "output_type": "stream",
     "text": [
      "[8 5 1 3]\n"
     ]
    }
   ],
   "source": [
    "print(A[np.arange(2,6,1)])"
   ]
  },
  {
   "cell_type": "markdown",
   "id": "47cfbf1f",
   "metadata": {},
   "source": [
    "Above we were able to extract the 3rd, 4th, 5th and 6th data points from A. These are now stored in a vector called B. Note that the 3rd data point is located at the 2. This is because Python starts at zero (for comparison, MATLAB starts at 1).\n",
    "\n",
    "Note that `np.arange(2,8,1)` produced a sequence of numbers from 2 to 7 in increments of 1. `np.arange(2,8,2)` produces a similar sequence but in increments of 2."
   ]
  },
  {
   "cell_type": "code",
   "execution_count": 97,
   "id": "ae8b0a4e",
   "metadata": {},
   "outputs": [
    {
     "name": "stdout",
     "output_type": "stream",
     "text": [
      "[2 3 4 5 6 7]\n"
     ]
    }
   ],
   "source": [
    "print(np.arange(2,8,1))"
   ]
  },
  {
   "cell_type": "code",
   "execution_count": 98,
   "id": "8f9138e2",
   "metadata": {},
   "outputs": [
    {
     "name": "stdout",
     "output_type": "stream",
     "text": [
      "[2 4 6]\n"
     ]
    }
   ],
   "source": [
    "print(np.arange(2,8,2))"
   ]
  },
  {
   "cell_type": "markdown",
   "id": "e19727ef",
   "metadata": {},
   "source": [
    "Observe that the sequence does not include 7 as this does not fit within the specified sequence.\n",
    "\n",
    "The above can be useful if one wants to extract every other number from a vector. For example:"
   ]
  },
  {
   "cell_type": "code",
   "execution_count": 99,
   "id": "b407ed86",
   "metadata": {},
   "outputs": [
    {
     "name": "stdout",
     "output_type": "stream",
     "text": [
      "[4 8 1 2]\n"
     ]
    }
   ],
   "source": [
    "B=A[np.arange(0,7,2)]\n",
    "print(B)"
   ]
  },
  {
   "cell_type": "code",
   "execution_count": 100,
   "id": "3adbe545",
   "metadata": {},
   "outputs": [
    {
     "name": "stdout",
     "output_type": "stream",
     "text": [
      "[6 5 3]\n"
     ]
    }
   ],
   "source": [
    "C=A[np.arange(1,7,2)]\n",
    "print(C)"
   ]
  },
  {
   "cell_type": "markdown",
   "id": "100da0c8",
   "metadata": {},
   "source": [
    "Above it can be seen that B now contains the 1st, 3rd, 5th and 7th numbers from A while C contains the 2nd, 4th and 6th numbers from A.\n",
    "\n",
    "Note that `np.arange(1,7,2)` would produce a sequence in increments of 3 etc."
   ]
  },
  {
   "cell_type": "markdown",
   "id": "2a89666f",
   "metadata": {},
   "source": [
    "## Row vectors and column vectors\n",
    "\n",
    "All the arrays we have studied so far are 1D arrays. But if you want a row vector you need to add another layer of square brackets."
   ]
  },
  {
   "cell_type": "code",
   "execution_count": 116,
   "id": "e211f2e5",
   "metadata": {},
   "outputs": [
    {
     "name": "stdout",
     "output_type": "stream",
     "text": [
      "[[4 6 8 5 1]]\n"
     ]
    }
   ],
   "source": [
    "A=np.array([[4, 6, 8, 5, 1]])\n",
    "print(A)"
   ]
  },
  {
   "cell_type": "markdown",
   "id": "edccd8d1",
   "metadata": {},
   "source": [
    "Observe that A is a a row of numbers.\n",
    "\n",
    "Another type of 1D array is a column vector. Consider the following:"
   ]
  },
  {
   "cell_type": "code",
   "execution_count": 117,
   "id": "3021d7ea",
   "metadata": {},
   "outputs": [
    {
     "name": "stdout",
     "output_type": "stream",
     "text": [
      "[[4]\n",
      " [6]\n",
      " [8]\n",
      " [5]\n",
      " [1]]\n"
     ]
    }
   ],
   "source": [
    "B=np.array([[4], [6], [8], [5], [1]])\n",
    "print(B)"
   ]
  },
  {
   "cell_type": "markdown",
   "id": "5403cbe1",
   "metadata": {},
   "source": [
    "Note that the semicolons have made the vector into a column.\n",
    "\n",
    "A row vector can be \"transposed\" into a column vector using `np.transpose`."
   ]
  },
  {
   "cell_type": "code",
   "execution_count": 118,
   "id": "86a7770d",
   "metadata": {},
   "outputs": [
    {
     "name": "stdout",
     "output_type": "stream",
     "text": [
      "[[4]\n",
      " [6]\n",
      " [8]\n",
      " [5]\n",
      " [1]]\n"
     ]
    }
   ],
   "source": [
    "C=np.transpose(A)\n",
    "print(C)"
   ]
  },
  {
   "cell_type": "markdown",
   "id": "118b00ff",
   "metadata": {},
   "source": [
    "A row vector can be \"transposed\" into a column vector using `np.transpose`."
   ]
  },
  {
   "cell_type": "code",
   "execution_count": 120,
   "id": "a231771f",
   "metadata": {},
   "outputs": [
    {
     "name": "stdout",
     "output_type": "stream",
     "text": [
      "[[4 6 8 5 1]]\n"
     ]
    }
   ],
   "source": [
    "D=np.transpose(B)\n",
    "print(D)"
   ]
  },
  {
   "cell_type": "markdown",
   "id": "97ab32a2",
   "metadata": {},
   "source": [
    "Arrays of the same size can be added (or subtracted) together."
   ]
  },
  {
   "cell_type": "code",
   "execution_count": 121,
   "id": "ec80696d",
   "metadata": {},
   "outputs": [
    {
     "name": "stdout",
     "output_type": "stream",
     "text": [
      "[[ 8 12 16 10  2]]\n"
     ]
    }
   ],
   "source": [
    "print(A+D)"
   ]
  },
  {
   "cell_type": "code",
   "execution_count": 122,
   "id": "fcd63aee",
   "metadata": {},
   "outputs": [
    {
     "name": "stdout",
     "output_type": "stream",
     "text": [
      "[[0 0 0 0 0]]\n"
     ]
    }
   ],
   "source": [
    "print(A-D)"
   ]
  },
  {
   "cell_type": "markdown",
   "id": "5b8cf1b8",
   "metadata": {},
   "source": [
    "These arrays can also be multiplied and divided by each other or even taken to the power of each other."
   ]
  },
  {
   "cell_type": "code",
   "execution_count": 123,
   "id": "e096748d",
   "metadata": {},
   "outputs": [
    {
     "name": "stdout",
     "output_type": "stream",
     "text": [
      "[[16 36 64 25  1]]\n"
     ]
    }
   ],
   "source": [
    "print(A*D)"
   ]
  },
  {
   "cell_type": "code",
   "execution_count": 124,
   "id": "64ca9f77",
   "metadata": {},
   "outputs": [
    {
     "name": "stdout",
     "output_type": "stream",
     "text": [
      "[[1. 1. 1. 1. 1.]]\n"
     ]
    }
   ],
   "source": [
    "print(A/D)"
   ]
  },
  {
   "cell_type": "code",
   "execution_count": 126,
   "id": "0c5601c4",
   "metadata": {},
   "outputs": [
    {
     "name": "stdout",
     "output_type": "stream",
     "text": [
      "[[     256    46656 16777216     3125        1]]\n"
     ]
    }
   ],
   "source": [
    "print(A**D)"
   ]
  },
  {
   "cell_type": "markdown",
   "id": "c7d1322a",
   "metadata": {},
   "source": [
    "However, the above operations are only possible when the arrays have the same size. The dimensions of an array can be checked using the size command."
   ]
  },
  {
   "cell_type": "code",
   "execution_count": null,
   "id": "0f4a4f72",
   "metadata": {},
   "outputs": [],
   "source": []
  }
 ],
 "metadata": {
  "kernelspec": {
   "display_name": "Python 3",
   "language": "python",
   "name": "python3"
  },
  "language_info": {
   "codemirror_mode": {
    "name": "ipython",
    "version": 3
   },
   "file_extension": ".py",
   "mimetype": "text/x-python",
   "name": "python",
   "nbconvert_exporter": "python",
   "pygments_lexer": "ipython3",
   "version": "3.8.10"
  }
 },
 "nbformat": 4,
 "nbformat_minor": 5
}
