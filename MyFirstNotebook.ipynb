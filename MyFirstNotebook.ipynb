{
 "cells": [
  {
   "cell_type": "markdown",
   "id": "c0564107",
   "metadata": {},
   "source": [
    "# My first attempt to write a notebook\n",
    "\n",
    "Simon Mathias, Department of Engineering, Durham University\n",
    "\n",
    "## Learning outcomes\n",
    "\n",
    "* Input data into a 1D array.\n",
    "* Access data from a 1D array.\n",
    "* Distinguish between row and column vectors.\n",
    "* Determine the size of an array.\n",
    "* Input data into 2D arrays.\n",
    "* Access data from 2D arrays.\n",
    "* Write a script file.\n",
    "* Import data from an excel file.\n",
    "* Plot data in x-y scatter plots.\n",
    "\n",
    "## Input data into a 1D array\n",
    "\n",
    "First of we will import `numpy` and make an array."
   ]
  },
  {
   "cell_type": "code",
   "execution_count": 1,
   "id": "437c73a8",
   "metadata": {},
   "outputs": [
    {
     "name": "stdout",
     "output_type": "stream",
     "text": [
      "[4 6 8 5 1 3 2]\n"
     ]
    }
   ],
   "source": [
    "#Import the numpy package\n",
    "import numpy as np\n",
    "#Make an array A=[4 6 8 5 1 3 2]\n",
    "A=np.array([4, 6, 8, 5, 1, 3, 2])\n",
    "#Display the array\n",
    "print(A)"
   ]
  },
  {
   "cell_type": "markdown",
   "id": "644615a3",
   "metadata": {},
   "source": [
    "Now we will have a go at doing some basic arithmetic."
   ]
  },
  {
   "cell_type": "code",
   "execution_count": 2,
   "id": "d0b6ac49",
   "metadata": {},
   "outputs": [
    {
     "name": "stdout",
     "output_type": "stream",
     "text": [
      "[ 8 12 16 10  2  6  4]\n",
      "[ 6  8 10  7  3  5  4]\n"
     ]
    }
   ],
   "source": [
    "#Perform some arithmetic\n",
    "B=A*2\n",
    "C=A+2\n",
    "print(B)\n",
    "print(C)"
   ]
  },
  {
   "cell_type": "markdown",
   "id": "f808bcac",
   "metadata": {},
   "source": [
    "## Access data from a 1D array\n",
    "\n",
    "He we will have a got at extracting some columns from the array."
   ]
  },
  {
   "cell_type": "code",
   "execution_count": 3,
   "id": "fcde8612",
   "metadata": {
    "scrolled": true
   },
   "outputs": [
    {
     "name": "stdout",
     "output_type": "stream",
     "text": [
      "8\n",
      "1\n",
      "[8 1]\n",
      "-0.9589242746631385\n",
      "42\n"
     ]
    }
   ],
   "source": [
    "#Extract the third column of A and store it in B\n",
    "B=A[2]\n",
    "#Extract the fith column of A and store it in C\n",
    "C=A[4]\n",
    "#Extract both third and fifth columns and store in D\n",
    "D=A[[2,4]]\n",
    "#Now let's print the results\n",
    "print(B)\n",
    "print(C)\n",
    "print(D)\n",
    "#More commands\n",
    "print(np.sin(5))\n",
    "print(6*(4+3))"
   ]
  },
  {
   "cell_type": "markdown",
   "id": "38a82b23",
   "metadata": {},
   "source": [
    "The square brackets, `[]`, can be used for stacking values in arrays. Curved brackets, `()`, can be used for specifying functional arguments or performing bracketed arithmetic, e.g."
   ]
  },
  {
   "cell_type": "code",
   "execution_count": 25,
   "id": "5f499444",
   "metadata": {},
   "outputs": [
    {
     "name": "stdout",
     "output_type": "stream",
     "text": [
      "-0.9589242746631385\n",
      "42\n"
     ]
    }
   ],
   "source": [
    "#More commands\n",
    "print(np.sin(5))\n",
    "print(6*(4+3))"
   ]
  },
  {
   "cell_type": "markdown",
   "id": "648fd641",
   "metadata": {},
   "source": [
    "Interestingly, typing `np.arange(2,6,1)` produces a sequence of numbers from 2 to 5 in increments of 1."
   ]
  },
  {
   "cell_type": "code",
   "execution_count": 23,
   "id": "0f5bf73e",
   "metadata": {},
   "outputs": [
    {
     "data": {
      "text/plain": [
       "array([2, 3, 4, 5])"
      ]
     },
     "execution_count": 23,
     "metadata": {},
     "output_type": "execute_result"
    }
   ],
   "source": [
    "np.arange(2,6,1)"
   ]
  },
  {
   "cell_type": "markdown",
   "id": "244f9711",
   "metadata": {},
   "source": [
    "The above functionality can be used to more easily obtain multiple values from a vector. For example:"
   ]
  },
  {
   "cell_type": "code",
   "execution_count": 6,
   "id": "89c845b1",
   "metadata": {},
   "outputs": [
    {
     "name": "stdout",
     "output_type": "stream",
     "text": [
      "[8 5 1 3]\n"
     ]
    }
   ],
   "source": [
    "print(A[np.arange(2,6,1)])"
   ]
  },
  {
   "cell_type": "markdown",
   "id": "4b8ea0d4",
   "metadata": {},
   "source": [
    "Above we were able to extract the 3rd, 4th, 5th and 6th data points from A. These are now stored in a vector called B. Note that the 3rd data point is located at the 2. This is because Python starts at zero (for comparison, MATLAB starts at 1).\n",
    "\n",
    "Note that `np.arange(2,8,1)` produced a sequence of numbers from 2 to 7 in increments of 1. `np.arange(2,8,2)` produces a similar sequence but in increments of 2."
   ]
  },
  {
   "cell_type": "code",
   "execution_count": 22,
   "id": "9d23c36a",
   "metadata": {},
   "outputs": [
    {
     "data": {
      "text/plain": [
       "array([2, 3, 4, 5, 6, 7])"
      ]
     },
     "execution_count": 22,
     "metadata": {},
     "output_type": "execute_result"
    }
   ],
   "source": [
    "np.arange(2,8,1)"
   ]
  },
  {
   "cell_type": "code",
   "execution_count": 21,
   "id": "3318c166",
   "metadata": {},
   "outputs": [
    {
     "data": {
      "text/plain": [
       "array([2, 4, 6])"
      ]
     },
     "execution_count": 21,
     "metadata": {},
     "output_type": "execute_result"
    }
   ],
   "source": [
    "np.arange(2,8,2)"
   ]
  },
  {
   "cell_type": "markdown",
   "id": "095d1c49",
   "metadata": {},
   "source": [
    "Observe that the sequence does not include 7 as this does not fit within the specified sequence.\n",
    "\n",
    "The above can be useful if one wants to extract every other number from a vector. For example:"
   ]
  },
  {
   "cell_type": "code",
   "execution_count": 9,
   "id": "18276e49",
   "metadata": {},
   "outputs": [
    {
     "name": "stdout",
     "output_type": "stream",
     "text": [
      "[4 8 1 2]\n"
     ]
    }
   ],
   "source": [
    "B=A[np.arange(0,7,2)]\n",
    "print(B)"
   ]
  },
  {
   "cell_type": "code",
   "execution_count": 10,
   "id": "b13e1d93",
   "metadata": {},
   "outputs": [
    {
     "name": "stdout",
     "output_type": "stream",
     "text": [
      "[6 5 3]\n"
     ]
    }
   ],
   "source": [
    "C=A[np.arange(1,7,2)]\n",
    "print(C)"
   ]
  },
  {
   "cell_type": "markdown",
   "id": "de78d275",
   "metadata": {},
   "source": [
    "Above it can be seen that B now contains the 1st, 3rd, 5th and 7th numbers from A while C contains the 2nd, 4th and 6th numbers from A.\n",
    "\n",
    "Note that `np.arange(1,7,2)` would produce a sequence in increments of 3 etc."
   ]
  },
  {
   "cell_type": "markdown",
   "id": "d509f6dc",
   "metadata": {},
   "source": [
    "## Row vectors and column vectors\n",
    "\n",
    "All the arrays we have studied so far are 1D arrays. But if you want a row vector you need to add another layer of square brackets."
   ]
  },
  {
   "cell_type": "code",
   "execution_count": 11,
   "id": "603e9976",
   "metadata": {},
   "outputs": [
    {
     "name": "stdout",
     "output_type": "stream",
     "text": [
      "[[4 6 8 5 1]]\n"
     ]
    }
   ],
   "source": [
    "A=np.array([[4, 6, 8, 5, 1]])\n",
    "print(A)"
   ]
  },
  {
   "cell_type": "markdown",
   "id": "c437950e",
   "metadata": {},
   "source": [
    "Observe that A is a a row of numbers.\n",
    "\n",
    "Another type of 1D array is a column vector. Consider the following:"
   ]
  },
  {
   "cell_type": "code",
   "execution_count": 12,
   "id": "e6e00204",
   "metadata": {},
   "outputs": [
    {
     "name": "stdout",
     "output_type": "stream",
     "text": [
      "[[4]\n",
      " [6]\n",
      " [8]\n",
      " [5]\n",
      " [1]]\n"
     ]
    }
   ],
   "source": [
    "B=np.array([[4], [6], [8], [5], [1]])\n",
    "print(B)"
   ]
  },
  {
   "cell_type": "markdown",
   "id": "57e787ca",
   "metadata": {},
   "source": [
    "Note that the semicolons have made the vector into a column.\n",
    "\n",
    "A row vector can be \"transposed\" into a column vector using `np.transpose`."
   ]
  },
  {
   "cell_type": "code",
   "execution_count": 13,
   "id": "1e07edaf",
   "metadata": {},
   "outputs": [
    {
     "name": "stdout",
     "output_type": "stream",
     "text": [
      "[[4]\n",
      " [6]\n",
      " [8]\n",
      " [5]\n",
      " [1]]\n"
     ]
    }
   ],
   "source": [
    "C=np.transpose(A)\n",
    "print(C)"
   ]
  },
  {
   "cell_type": "markdown",
   "id": "1dc7e76e",
   "metadata": {},
   "source": [
    "A row vector can be \"transposed\" into a column vector using `np.transpose`."
   ]
  },
  {
   "cell_type": "code",
   "execution_count": 14,
   "id": "eb45f0e7",
   "metadata": {},
   "outputs": [
    {
     "name": "stdout",
     "output_type": "stream",
     "text": [
      "[[4 6 8 5 1]]\n"
     ]
    }
   ],
   "source": [
    "D=np.transpose(B)\n",
    "print(D)"
   ]
  },
  {
   "cell_type": "markdown",
   "id": "0b6ad1bd",
   "metadata": {},
   "source": [
    "Arrays of the same size can be added (or subtracted) together."
   ]
  },
  {
   "cell_type": "code",
   "execution_count": 15,
   "id": "1ad0f592",
   "metadata": {},
   "outputs": [
    {
     "data": {
      "text/plain": [
       "array([[ 8, 12, 16, 10,  2]])"
      ]
     },
     "execution_count": 15,
     "metadata": {},
     "output_type": "execute_result"
    }
   ],
   "source": [
    "A+D"
   ]
  },
  {
   "cell_type": "code",
   "execution_count": 16,
   "id": "8e973671",
   "metadata": {},
   "outputs": [
    {
     "data": {
      "text/plain": [
       "array([[0, 0, 0, 0, 0]])"
      ]
     },
     "execution_count": 16,
     "metadata": {},
     "output_type": "execute_result"
    }
   ],
   "source": [
    "A-D"
   ]
  },
  {
   "cell_type": "markdown",
   "id": "7f72f69e",
   "metadata": {},
   "source": [
    "These arrays can also be multiplied and divided by each other or even taken to the power of each other."
   ]
  },
  {
   "cell_type": "code",
   "execution_count": 17,
   "id": "dc86e376",
   "metadata": {},
   "outputs": [
    {
     "data": {
      "text/plain": [
       "array([[16, 36, 64, 25,  1]])"
      ]
     },
     "execution_count": 17,
     "metadata": {},
     "output_type": "execute_result"
    }
   ],
   "source": [
    "A*D"
   ]
  },
  {
   "cell_type": "code",
   "execution_count": 18,
   "id": "4e4ff841",
   "metadata": {},
   "outputs": [
    {
     "data": {
      "text/plain": [
       "array([[1., 1., 1., 1., 1.]])"
      ]
     },
     "execution_count": 18,
     "metadata": {},
     "output_type": "execute_result"
    }
   ],
   "source": [
    "A/D"
   ]
  },
  {
   "cell_type": "code",
   "execution_count": 19,
   "id": "de70266d",
   "metadata": {},
   "outputs": [
    {
     "data": {
      "text/plain": [
       "array([[     256,    46656, 16777216,     3125,        1]], dtype=int32)"
      ]
     },
     "execution_count": 19,
     "metadata": {},
     "output_type": "execute_result"
    }
   ],
   "source": [
    "A**D"
   ]
  },
  {
   "cell_type": "markdown",
   "id": "3b16593f",
   "metadata": {},
   "source": [
    "However, the above operations are only possible when the arrays have the same size. The dimensions of an array can be checked using the `np.shape` command."
   ]
  },
  {
   "cell_type": "code",
   "execution_count": 20,
   "id": "a53e3d8a",
   "metadata": {},
   "outputs": [
    {
     "data": {
      "text/plain": [
       "(1, 5)"
      ]
     },
     "execution_count": 20,
     "metadata": {},
     "output_type": "execute_result"
    }
   ],
   "source": [
    "np.shape(A)"
   ]
  },
  {
   "cell_type": "markdown",
   "id": "12253a7f",
   "metadata": {},
   "source": [
    "The first dimension denotes the number of rows. The second dimension denotes the number of columns. Applying `np.shape(A)` tells us that A has one row and five columns.\n",
    "\n",
    "Applying `np.shape(A)` tells us that B has five rows and one column."
   ]
  },
  {
   "cell_type": "code",
   "execution_count": 26,
   "id": "b1fed2cd",
   "metadata": {},
   "outputs": [
    {
     "data": {
      "text/plain": [
       "(5, 1)"
      ]
     },
     "execution_count": 26,
     "metadata": {},
     "output_type": "execute_result"
    }
   ],
   "source": [
    "np.shape(B)"
   ]
  },
  {
   "cell_type": "markdown",
   "id": "6568748a",
   "metadata": {},
   "source": [
    "Look at what happens when you add A and B."
   ]
  },
  {
   "cell_type": "code",
   "execution_count": 27,
   "id": "4f19a658",
   "metadata": {},
   "outputs": [
    {
     "data": {
      "text/plain": [
       "array([[ 8, 10, 12,  9,  5],\n",
       "       [10, 12, 14, 11,  7],\n",
       "       [12, 14, 16, 13,  9],\n",
       "       [ 9, 11, 13, 10,  6],\n",
       "       [ 5,  7,  9,  6,  2]])"
      ]
     },
     "execution_count": 27,
     "metadata": {},
     "output_type": "execute_result"
    }
   ],
   "source": [
    "A+B"
   ]
  },
  {
   "cell_type": "markdown",
   "id": "ad39a46e",
   "metadata": {},
   "source": [
    "A has been reproduced to form 5 rows. B has been reproduced to form 5 columns. The two have then been added together.\n",
    "\n",
    "Look at what happens when you multiply A and B."
   ]
  },
  {
   "cell_type": "code",
   "execution_count": 28,
   "id": "8c43c49e",
   "metadata": {},
   "outputs": [
    {
     "data": {
      "text/plain": [
       "array([[16, 24, 32, 20,  4],\n",
       "       [24, 36, 48, 30,  6],\n",
       "       [32, 48, 64, 40,  8],\n",
       "       [20, 30, 40, 25,  5],\n",
       "       [ 4,  6,  8,  5,  1]])"
      ]
     },
     "execution_count": 28,
     "metadata": {},
     "output_type": "execute_result"
    }
   ],
   "source": [
    "A*B"
   ]
  },
  {
   "cell_type": "markdown",
   "id": "a0207e5c",
   "metadata": {},
   "source": [
    "A has been reproduced to form 5 rows. B has been reproduced to form 5 columns. The two have then been multiplied together."
   ]
  },
  {
   "cell_type": "markdown",
   "id": "d549437e",
   "metadata": {},
   "source": [
    "## Inputting and accessing 2D arrays\n",
    "\n",
    "If an array has more than one row and more than one column, it is a two dimensional (2D) array. Another word for a 2D array is a matrix. Consider the following."
   ]
  },
  {
   "cell_type": "code",
   "execution_count": 34,
   "id": "f4adf876",
   "metadata": {},
   "outputs": [
    {
     "name": "stdout",
     "output_type": "stream",
     "text": [
      "[[ 2  5  8  6]\n",
      " [ 9  4  3  1]\n",
      " [ 7 12 10 11]]\n"
     ]
    }
   ],
   "source": [
    "A=np.array([[2, 5, 8, 6], [9, 4, 3, 1], [7, 12, 10, 11]])\n",
    "print(A)"
   ]
  },
  {
   "cell_type": "markdown",
   "id": "2111bcb6",
   "metadata": {},
   "source": [
    "Note that the interior square brackets represent each row."
   ]
  },
  {
   "cell_type": "code",
   "execution_count": 35,
   "id": "3dcd9980",
   "metadata": {},
   "outputs": [
    {
     "data": {
      "text/plain": [
       "(3, 4)"
      ]
     },
     "execution_count": 35,
     "metadata": {},
     "output_type": "execute_result"
    }
   ],
   "source": [
    "np.shape(A)"
   ]
  },
  {
   "cell_type": "markdown",
   "id": "71745f39",
   "metadata": {},
   "source": [
    "Incidentally, if we want to know how many values are in an array (1D or 2D) we can use the command `np.size`."
   ]
  },
  {
   "cell_type": "code",
   "execution_count": 36,
   "id": "888a4106",
   "metadata": {},
   "outputs": [
    {
     "data": {
      "text/plain": [
       "12"
      ]
     },
     "execution_count": 36,
     "metadata": {},
     "output_type": "execute_result"
    }
   ],
   "source": [
    "np.size(A)"
   ]
  },
  {
   "cell_type": "markdown",
   "id": "0e5a6256",
   "metadata": {},
   "source": [
    "We can access individual elements as follows:"
   ]
  },
  {
   "cell_type": "code",
   "execution_count": 44,
   "id": "295745e6",
   "metadata": {},
   "outputs": [
    {
     "data": {
      "text/plain": [
       "12"
      ]
     },
     "execution_count": 44,
     "metadata": {},
     "output_type": "execute_result"
    }
   ],
   "source": [
    "A[2,1]"
   ]
  },
  {
   "cell_type": "markdown",
   "id": "27a9e6dd",
   "metadata": {},
   "source": [
    "We have extracted the 3rd row of the 2nd column. Note again that Python idexing starts at zero.\n",
    "\n",
    "To get the whole second row we can take advantage of the `:` symbol:"
   ]
  },
  {
   "cell_type": "code",
   "execution_count": 45,
   "id": "6dc1a37f",
   "metadata": {},
   "outputs": [
    {
     "data": {
      "text/plain": [
       "array([9, 4, 3, 1])"
      ]
     },
     "execution_count": 45,
     "metadata": {},
     "output_type": "execute_result"
    }
   ],
   "source": [
    "A[1,:]"
   ]
  },
  {
   "cell_type": "markdown",
   "id": "d67248cb",
   "metadata": {},
   "source": [
    "To get the whole third column:"
   ]
  },
  {
   "cell_type": "code",
   "execution_count": 46,
   "id": "93d42499",
   "metadata": {},
   "outputs": [
    {
     "data": {
      "text/plain": [
       "array([ 8,  3, 10])"
      ]
     },
     "execution_count": 46,
     "metadata": {},
     "output_type": "execute_result"
    }
   ],
   "source": [
    "A[:,2]"
   ]
  }
 ],
 "metadata": {
  "kernelspec": {
   "display_name": "Python 3",
   "language": "python",
   "name": "python3"
  },
  "language_info": {
   "codemirror_mode": {
    "name": "ipython",
    "version": 3
   },
   "file_extension": ".py",
   "mimetype": "text/x-python",
   "name": "python",
   "nbconvert_exporter": "python",
   "pygments_lexer": "ipython3",
   "version": "3.8.10"
  }
 },
 "nbformat": 4,
 "nbformat_minor": 5
}
